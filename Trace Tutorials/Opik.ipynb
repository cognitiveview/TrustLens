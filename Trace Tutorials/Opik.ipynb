{
 "cells": [
  {
   "cell_type": "markdown",
   "id": "989d73ca",
   "metadata": {},
   "source": [
    "### Opik configuration Guide\n",
    "\n",
    "This notebook demonstrates the basic usage of the `opik` library. We'll cover:\n",
    "\n",
    "- Logging test cases  \n",
    "- Running evaluations  \n",
    "- Viewing and saving results locally  \n",
    "- Evaluating DeepEval metrics through the Trace metrics API\n"
   ]
  },
  {
   "cell_type": "code",
   "execution_count": 2,
   "id": "4fbddecd",
   "metadata": {},
   "outputs": [
    {
     "name": "stdout",
     "output_type": "stream",
     "text": [
      "Requirement already satisfied: opik in c:\\users\\dilip\\appdata\\local\\programs\\python\\python312\\lib\\site-packages (1.7.39)\n",
      "Requirement already satisfied: boto3-stubs[bedrock-runtime]>=1.34.110 in c:\\users\\dilip\\appdata\\local\\programs\\python\\python312\\lib\\site-packages (from opik) (1.38.46)\n",
      "Requirement already satisfied: click in c:\\users\\dilip\\appdata\\local\\programs\\python\\python312\\lib\\site-packages (from opik) (8.1.8)\n",
      "Requirement already satisfied: httpx in c:\\users\\dilip\\appdata\\local\\programs\\python\\python312\\lib\\site-packages (from opik) (0.28.1)\n",
      "Requirement already satisfied: rapidfuzz<4.0.0,>=3.0.0 in c:\\users\\dilip\\appdata\\local\\programs\\python\\python312\\lib\\site-packages (from opik) (3.13.0)\n",
      "Requirement already satisfied: litellm in c:\\users\\dilip\\appdata\\local\\programs\\python\\python312\\lib\\site-packages (from opik) (1.73.6)\n",
      "Requirement already satisfied: openai<2.0.0 in c:\\users\\dilip\\appdata\\local\\programs\\python\\python312\\lib\\site-packages (from opik) (1.88.0)\n",
      "Requirement already satisfied: pydantic-settings!=2.9.0,<3.0.0,>=2.0.0 in c:\\users\\dilip\\appdata\\local\\programs\\python\\python312\\lib\\site-packages (from opik) (2.10.1)\n",
      "Requirement already satisfied: pydantic<3.0.0,>=2.0.0 in c:\\users\\dilip\\appdata\\local\\programs\\python\\python312\\lib\\site-packages (from opik) (2.11.7)\n",
      "Requirement already satisfied: pytest in c:\\users\\dilip\\appdata\\local\\programs\\python\\python312\\lib\\site-packages (from opik) (8.4.1)\n",
      "Requirement already satisfied: rich in c:\\users\\dilip\\appdata\\local\\programs\\python\\python312\\lib\\site-packages (from opik) (13.9.4)\n",
      "Requirement already satisfied: sentry_sdk>=2.0.0 in c:\\users\\dilip\\appdata\\local\\programs\\python\\python312\\lib\\site-packages (from opik) (2.30.0)\n",
      "Requirement already satisfied: tenacity in c:\\users\\dilip\\appdata\\local\\programs\\python\\python312\\lib\\site-packages (from opik) (9.0.0)\n",
      "Requirement already satisfied: tqdm in c:\\users\\dilip\\appdata\\local\\programs\\python\\python312\\lib\\site-packages (from opik) (4.67.1)\n",
      "Requirement already satisfied: uuid6 in c:\\users\\dilip\\appdata\\local\\programs\\python\\python312\\lib\\site-packages (from opik) (2025.0.0)\n",
      "Requirement already satisfied: jinja2 in c:\\users\\dilip\\appdata\\local\\programs\\python\\python312\\lib\\site-packages (from opik) (3.1.6)\n",
      "Requirement already satisfied: botocore-stubs in c:\\users\\dilip\\appdata\\local\\programs\\python\\python312\\lib\\site-packages (from boto3-stubs[bedrock-runtime]>=1.34.110->opik) (1.38.46)\n",
      "Requirement already satisfied: types-s3transfer in c:\\users\\dilip\\appdata\\local\\programs\\python\\python312\\lib\\site-packages (from boto3-stubs[bedrock-runtime]>=1.34.110->opik) (0.13.0)\n",
      "Requirement already satisfied: mypy-boto3-bedrock-runtime<1.39.0,>=1.38.0 in c:\\users\\dilip\\appdata\\local\\programs\\python\\python312\\lib\\site-packages (from boto3-stubs[bedrock-runtime]>=1.34.110->opik) (1.38.4)\n",
      "Requirement already satisfied: anyio<5,>=3.5.0 in c:\\users\\dilip\\appdata\\local\\programs\\python\\python312\\lib\\site-packages (from openai<2.0.0->opik) (4.9.0)\n",
      "Requirement already satisfied: distro<2,>=1.7.0 in c:\\users\\dilip\\appdata\\local\\programs\\python\\python312\\lib\\site-packages (from openai<2.0.0->opik) (1.9.0)\n",
      "Requirement already satisfied: jiter<1,>=0.4.0 in c:\\users\\dilip\\appdata\\local\\programs\\python\\python312\\lib\\site-packages (from openai<2.0.0->opik) (0.10.0)\n",
      "Requirement already satisfied: sniffio in c:\\users\\dilip\\appdata\\local\\programs\\python\\python312\\lib\\site-packages (from openai<2.0.0->opik) (1.3.1)\n",
      "Requirement already satisfied: typing-extensions<5,>=4.11 in c:\\users\\dilip\\appdata\\local\\programs\\python\\python312\\lib\\site-packages (from openai<2.0.0->opik) (4.14.0)\n",
      "Requirement already satisfied: certifi in c:\\users\\dilip\\appdata\\local\\programs\\python\\python312\\lib\\site-packages (from httpx->opik) (2025.6.15)\n",
      "Requirement already satisfied: httpcore==1.* in c:\\users\\dilip\\appdata\\local\\programs\\python\\python312\\lib\\site-packages (from httpx->opik) (1.0.9)\n",
      "Requirement already satisfied: idna in c:\\users\\dilip\\appdata\\local\\programs\\python\\python312\\lib\\site-packages (from httpx->opik) (3.10)\n",
      "Requirement already satisfied: h11>=0.16 in c:\\users\\dilip\\appdata\\local\\programs\\python\\python312\\lib\\site-packages (from httpcore==1.*->httpx->opik) (0.16.0)\n",
      "Requirement already satisfied: annotated-types>=0.6.0 in c:\\users\\dilip\\appdata\\local\\programs\\python\\python312\\lib\\site-packages (from pydantic<3.0.0,>=2.0.0->opik) (0.7.0)\n",
      "Requirement already satisfied: pydantic-core==2.33.2 in c:\\users\\dilip\\appdata\\local\\programs\\python\\python312\\lib\\site-packages (from pydantic<3.0.0,>=2.0.0->opik) (2.33.2)\n",
      "Requirement already satisfied: typing-inspection>=0.4.0 in c:\\users\\dilip\\appdata\\local\\programs\\python\\python312\\lib\\site-packages (from pydantic<3.0.0,>=2.0.0->opik) (0.4.1)\n",
      "Requirement already satisfied: python-dotenv>=0.21.0 in c:\\users\\dilip\\appdata\\local\\programs\\python\\python312\\lib\\site-packages (from pydantic-settings!=2.9.0,<3.0.0,>=2.0.0->opik) (1.1.1)\n",
      "Requirement already satisfied: urllib3>=1.26.11 in c:\\users\\dilip\\appdata\\local\\programs\\python\\python312\\lib\\site-packages (from sentry_sdk>=2.0.0->opik) (2.4.0)\n",
      "Requirement already satisfied: colorama in c:\\users\\dilip\\appdata\\roaming\\python\\python312\\site-packages (from tqdm->opik) (0.4.6)\n",
      "Requirement already satisfied: MarkupSafe>=2.0 in c:\\users\\dilip\\appdata\\local\\programs\\python\\python312\\lib\\site-packages (from jinja2->opik) (3.0.2)\n",
      "Requirement already satisfied: aiohttp>=3.10 in c:\\users\\dilip\\appdata\\local\\programs\\python\\python312\\lib\\site-packages (from litellm->opik) (3.12.13)\n",
      "Requirement already satisfied: importlib-metadata>=6.8.0 in c:\\users\\dilip\\appdata\\local\\programs\\python\\python312\\lib\\site-packages (from litellm->opik) (8.6.1)\n",
      "Requirement already satisfied: jsonschema<5.0.0,>=4.22.0 in c:\\users\\dilip\\appdata\\local\\programs\\python\\python312\\lib\\site-packages (from litellm->opik) (4.24.0)\n",
      "Requirement already satisfied: tiktoken>=0.7.0 in c:\\users\\dilip\\appdata\\local\\programs\\python\\python312\\lib\\site-packages (from litellm->opik) (0.9.0)\n",
      "Requirement already satisfied: tokenizers in c:\\users\\dilip\\appdata\\local\\programs\\python\\python312\\lib\\site-packages (from litellm->opik) (0.21.2)\n",
      "Requirement already satisfied: iniconfig>=1 in c:\\users\\dilip\\appdata\\local\\programs\\python\\python312\\lib\\site-packages (from pytest->opik) (2.1.0)\n",
      "Requirement already satisfied: packaging>=20 in c:\\users\\dilip\\appdata\\roaming\\python\\python312\\site-packages (from pytest->opik) (25.0)\n",
      "Requirement already satisfied: pluggy<2,>=1.5 in c:\\users\\dilip\\appdata\\local\\programs\\python\\python312\\lib\\site-packages (from pytest->opik) (1.6.0)\n",
      "Requirement already satisfied: pygments>=2.7.2 in c:\\users\\dilip\\appdata\\roaming\\python\\python312\\site-packages (from pytest->opik) (2.19.1)\n",
      "Requirement already satisfied: markdown-it-py>=2.2.0 in c:\\users\\dilip\\appdata\\local\\programs\\python\\python312\\lib\\site-packages (from rich->opik) (3.0.0)\n",
      "Requirement already satisfied: aiohappyeyeballs>=2.5.0 in c:\\users\\dilip\\appdata\\local\\programs\\python\\python312\\lib\\site-packages (from aiohttp>=3.10->litellm->opik) (2.6.1)\n",
      "Requirement already satisfied: aiosignal>=1.1.2 in c:\\users\\dilip\\appdata\\local\\programs\\python\\python312\\lib\\site-packages (from aiohttp>=3.10->litellm->opik) (1.3.2)\n",
      "Requirement already satisfied: attrs>=17.3.0 in c:\\users\\dilip\\appdata\\local\\programs\\python\\python312\\lib\\site-packages (from aiohttp>=3.10->litellm->opik) (25.3.0)\n",
      "Requirement already satisfied: frozenlist>=1.1.1 in c:\\users\\dilip\\appdata\\local\\programs\\python\\python312\\lib\\site-packages (from aiohttp>=3.10->litellm->opik) (1.7.0)\n",
      "Requirement already satisfied: multidict<7.0,>=4.5 in c:\\users\\dilip\\appdata\\local\\programs\\python\\python312\\lib\\site-packages (from aiohttp>=3.10->litellm->opik) (6.5.0)\n",
      "Requirement already satisfied: propcache>=0.2.0 in c:\\users\\dilip\\appdata\\local\\programs\\python\\python312\\lib\\site-packages (from aiohttp>=3.10->litellm->opik) (0.3.2)\n",
      "Requirement already satisfied: yarl<2.0,>=1.17.0 in c:\\users\\dilip\\appdata\\local\\programs\\python\\python312\\lib\\site-packages (from aiohttp>=3.10->litellm->opik) (1.20.1)\n",
      "Requirement already satisfied: zipp>=3.20 in c:\\users\\dilip\\appdata\\local\\programs\\python\\python312\\lib\\site-packages (from importlib-metadata>=6.8.0->litellm->opik) (3.23.0)\n",
      "Requirement already satisfied: jsonschema-specifications>=2023.03.6 in c:\\users\\dilip\\appdata\\local\\programs\\python\\python312\\lib\\site-packages (from jsonschema<5.0.0,>=4.22.0->litellm->opik) (2025.4.1)\n",
      "Requirement already satisfied: referencing>=0.28.4 in c:\\users\\dilip\\appdata\\local\\programs\\python\\python312\\lib\\site-packages (from jsonschema<5.0.0,>=4.22.0->litellm->opik) (0.36.2)\n",
      "Requirement already satisfied: rpds-py>=0.7.1 in c:\\users\\dilip\\appdata\\local\\programs\\python\\python312\\lib\\site-packages (from jsonschema<5.0.0,>=4.22.0->litellm->opik) (0.25.1)\n",
      "Requirement already satisfied: mdurl~=0.1 in c:\\users\\dilip\\appdata\\local\\programs\\python\\python312\\lib\\site-packages (from markdown-it-py>=2.2.0->rich->opik) (0.1.2)\n",
      "Requirement already satisfied: regex>=2022.1.18 in c:\\users\\dilip\\appdata\\local\\programs\\python\\python312\\lib\\site-packages (from tiktoken>=0.7.0->litellm->opik) (2024.11.6)\n",
      "Requirement already satisfied: requests>=2.26.0 in c:\\users\\dilip\\appdata\\local\\programs\\python\\python312\\lib\\site-packages (from tiktoken>=0.7.0->litellm->opik) (2.32.4)\n",
      "Requirement already satisfied: types-awscrt in c:\\users\\dilip\\appdata\\local\\programs\\python\\python312\\lib\\site-packages (from botocore-stubs->boto3-stubs[bedrock-runtime]>=1.34.110->opik) (0.27.4)\n",
      "Requirement already satisfied: huggingface-hub<1.0,>=0.16.4 in c:\\users\\dilip\\appdata\\local\\programs\\python\\python312\\lib\\site-packages (from tokenizers->litellm->opik) (0.33.1)\n",
      "Requirement already satisfied: filelock in c:\\users\\dilip\\appdata\\local\\programs\\python\\python312\\lib\\site-packages (from huggingface-hub<1.0,>=0.16.4->tokenizers->litellm->opik) (3.18.0)\n",
      "Requirement already satisfied: fsspec>=2023.5.0 in c:\\users\\dilip\\appdata\\local\\programs\\python\\python312\\lib\\site-packages (from huggingface-hub<1.0,>=0.16.4->tokenizers->litellm->opik) (2025.5.1)\n",
      "Requirement already satisfied: pyyaml>=5.1 in c:\\users\\dilip\\appdata\\local\\programs\\python\\python312\\lib\\site-packages (from huggingface-hub<1.0,>=0.16.4->tokenizers->litellm->opik) (6.0.2)\n",
      "Requirement already satisfied: charset_normalizer<4,>=2 in c:\\users\\dilip\\appdata\\local\\programs\\python\\python312\\lib\\site-packages (from requests>=2.26.0->tiktoken>=0.7.0->litellm->opik) (3.4.2)\n"
     ]
    },
    {
     "name": "stderr",
     "output_type": "stream",
     "text": [
      "\n",
      "[notice] A new release of pip is available: 23.2.1 -> 25.1.1\n",
      "[notice] To update, run: python.exe -m pip install --upgrade pip\n"
     ]
    }
   ],
   "source": [
    "!pip install opik"
   ]
  },
  {
   "cell_type": "code",
   "execution_count": null,
   "id": "4fe3b3d8",
   "metadata": {},
   "outputs": [],
   "source": [
    "import os\n",
    "OPENAI_API_KEY = \"your_openai_api_key_here\"\n",
    "os.environ[\"OPENAI_API_KEY\"] = OPENAI_API_KEY"
   ]
  },
  {
   "cell_type": "markdown",
   "id": "4afd6fe6",
   "metadata": {},
   "source": [
    "## Metric Evaluation Using `opik.evaluation.metrics`\n",
    "\n",
    "This script evaluates the similarity and moderation quality of a generated text (`output`) compared to a reference text (`reference`) using the `opik.evaluation.metrics` package.\n",
    "\n",
    "### Inputs\n",
    "\n",
    "- **Output**: A sample response that might come from a language model.\n",
    "- **Reference**: A human-written or expected answer used for comparison.\n",
    "\n",
    "### Metrics Used\n",
    "\n",
    "- **Equals**: Checks if the output and reference are equal, ignoring case sensitivity.\n",
    "- **Moderation**: Evaluates the moderation compliance of the output (e.g., safety, appropriateness).\n",
    "\n",
    "### Processing Flow\n",
    "\n",
    "1. A list of metric instances is created.\n",
    "2. Each metric is applied to the `output` and `reference`.\n",
    "3. The result (`.value`) from each metric is stored in a dictionary for easy access.\n"
   ]
  },
  {
   "cell_type": "code",
   "execution_count": 4,
   "id": "bfc415c0",
   "metadata": {},
   "outputs": [],
   "source": [
    "from opik.evaluation.metrics import Equals, Moderation, GEval\n",
    "from datetime import datetime, timezone\n",
    "\n",
    "# Example output and reference\n",
    "output = \"\"\"Paris is the capital of France and one of the most visited cities in the world. \n",
    "While some tourists express concerns about safety in certain neighborhoods, Paris remains a vibrant and welcoming city. \n",
    "Visitors are advised to stay vigilant, especially in crowded areas, but overall, the city is considered safe for travelers.\"\"\"\n",
    "reference = \"\"\"Paris is the capital of France and a major tourist destination. \n",
    "While no city is entirely without risk, Paris is generally safe for visitors who take standard precautions.\"\"\"\n",
    "\n",
    "metrics = [\n",
    "    Equals(case_sensitive=False),\n",
    "    Moderation()\n",
    "]\n",
    "\n",
    "metric_results = {}\n",
    "for m in metrics:\n",
    "    if isinstance(m, Equals):\n",
    "        result = m.score(output=output, reference=reference)\n",
    "    elif isinstance(m, Moderation):\n",
    "        result = m.score(output=output, reference=reference)\n",
    "    else:\n",
    "        continue\n",
    "    metric_results[m.__class__.__name__] = result.value\n",
    "\n"
   ]
  },
  {
   "cell_type": "code",
   "execution_count": 5,
   "id": "6f15cc66",
   "metadata": {},
   "outputs": [
    {
     "name": "stdout",
     "output_type": "stream",
     "text": [
      "Metric Results: {'Equals': 0.0, 'Moderation': 0.0}\n"
     ]
    }
   ],
   "source": [
    "print(\"Metric Results:\", metric_results)"
   ]
  },
  {
   "cell_type": "markdown",
   "id": "6e389a1d",
   "metadata": {},
   "source": [
    "## Posting Evaluation Metrics to CognitiveView Trace API\n",
    "\n",
    "This script sends the evaluation metric results (e.g., from Opik) to the CognitiveView Trace API using an authenticated HTTP POST request.\n",
    "\n",
    "### Authentication\n",
    "\n",
    "- Uses an **Authorization token** (`AUTH_TOKEN`) for secure access to the API.\n",
    "- Includes an **X-User-Id** header to identify the user performing the operation.\n",
    "\n",
    "### Endpoint\n",
    "\n",
    "- **Base URL**: `https://api.cognitiveview.com`\n",
    "- **API Path**: `/cv/v1/metrics`\n",
    "- **Full Endpoint**: `https://api.cognitiveview.com/cv/v1/metrics`\n",
    "\n",
    "### Payload Structure\n",
    "\n",
    "#### `metric_metadata`\n",
    "Metadata describing the context of the evaluation:\n",
    "- `application_name`: Name of the application being evaluated.\n",
    "- `version`: Version of the application.\n",
    "- `resource_name`: The evaluated resource (e.g., a model or endpoint).\n",
    "- `resource_id`: Unique ID of the resource.\n",
    "- `url`: The endpoint URL of the resource.\n",
    "- `provider`: Source of the metric system (e.g., `Opik`).\n",
    "- `use_case`: The business or functional use case (e.g., `transportation`).\n",
    "\n",
    "#### `metric_data`\n",
    "Data containing the metric scores:\n",
    "- `resource_id`: The ID of the instance or model run being scored.\n",
    "- `resource_name`: Name of the evaluated resource.\n",
    "- `deepeval`: Dictionary of computed metric scores "
   ]
  },
  {
   "cell_type": "code",
   "execution_count": null,
   "id": "bc79b84b",
   "metadata": {},
   "outputs": [],
   "source": [
    "import requests\n",
    "\n",
    "\n",
    "BASE_URL = \"https://api.cognitiveview.com\"\n",
    "AUTH_TOKEN =\"Your-Authorization-Token-Here\"  # Replace with your actual token\n",
    "url = f\"{BASE_URL}/cv/v1/metrics\"\n",
    "\n",
    "headers = {\n",
    "    \"Authorization\": AUTH_TOKEN,\n",
    "    \"Content-Type\": \"application/json\",\n",
    "    \"X-User-Id\": \"C473421_T181751\",  # Replace with your actual user ID\n",
    "}\n",
    "\n",
    "payload = {\n",
    "  \"metric_metadata\": {\n",
    "    \"application_name\": \"chat-application\",\n",
    "    \"version\": \"1.0.0\",\n",
    "    \"resource_name\": \"chat-completion\",\n",
    "    \"resource_id\": \"R-756\",\n",
    "    \"url\": \"https://api.example.com/chat\",\n",
    "    \"provider\": \"deepeval\",\n",
    "    \"use_case\": \"transportation\"\n",
    "  },\n",
    "  \"metric_data\": {\n",
    "    \"resource_id\": \"res_123456\",\n",
    "    \"resource_name\": \"chat-completion\",\n",
    "    \"opik\": metric_results\n",
    "  } \n",
    "}\n",
    "\n",
    "response = requests.post(url, headers=headers, json=payload)\n",
    "\n",
    "# Output the response\n",
    "print(f\"Status Code: {response.status_code}\")\n",
    "print(\"Response JSON:\", response.json())\n",
    "\n"
   ]
  }
 ],
 "metadata": {
  "kernelspec": {
   "display_name": "Python 3",
   "language": "python",
   "name": "python3"
  },
  "language_info": {
   "codemirror_mode": {
    "name": "ipython",
    "version": 3
   },
   "file_extension": ".py",
   "mimetype": "text/x-python",
   "name": "python",
   "nbconvert_exporter": "python",
   "pygments_lexer": "ipython3",
   "version": "3.12.0"
  }
 },
 "nbformat": 4,
 "nbformat_minor": 5
}
